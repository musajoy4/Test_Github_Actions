{
 "cells": [
  {
   "cell_type": "code",
   "execution_count": 2,
   "metadata": {},
   "outputs": [],
   "source": [
    "import pandas as pd"
   ]
  },
  {
   "cell_type": "code",
   "execution_count": null,
   "metadata": {},
   "outputs": [],
   "source": []
  },
  {
   "cell_type": "code",
   "execution_count": null,
   "metadata": {},
   "outputs": [],
   "source": [
    "from get_data import get_article_data\n",
    "\n",
    "df = get_article_data()\n",
    "df"
   ]
  },
  {
   "cell_type": "markdown",
   "metadata": {},
   "source": [
    "<!-- You need to create a Python function that takes a Pandas DataFrame as input and performs the following transformations:\n",
    "\n",
    "\n",
    "\n",
    "Iterate through each column name.\n",
    "Convert the column name to lowercase.\n",
    "Replace any spaces in the column name with underscores (_).\n",
    "Example: \"Time Uploaded\" becomes \"time_uploaded\".\n",
    "\n",
    "\n",
    "\n",
    "\n",
    "Access the \"reading_time\" column.\n",
    "For each value in the column, remove the string \" min read\" from the end.\n",
    "Ensure that the remaining value in the column is converted to the appropriate datatype, probably an integer. -->"
   ]
  },
  {
   "cell_type": "code",
   "execution_count": 4,
   "metadata": {},
   "outputs": [
    {
     "data": {
      "text/plain": [
       "Index(['Link', 'Title', 'Time Uploaded', 'Author', 'Tags', 'Reading Time',\n",
       "       'Article Content', 'Word Count', 'Sentiment', 'Compound Score'],\n",
       "      dtype='object')"
      ]
     },
     "execution_count": 4,
     "metadata": {},
     "output_type": "execute_result"
    }
   ],
   "source": [
    "df.columns\n"
   ]
  },
  {
   "cell_type": "code",
   "execution_count": 5,
   "metadata": {},
   "outputs": [
    {
     "data": {
      "text/plain": [
       "Index(['link', 'title', 'time_uploaded', 'author', 'tags', 'reading_time',\n",
       "       'article_content', 'word_count', 'sentiment', 'compound_score'],\n",
       "      dtype='object')"
      ]
     },
     "execution_count": 5,
     "metadata": {},
     "output_type": "execute_result"
    }
   ],
   "source": [
    "df.columns=df.columns.str.lower()\n",
    "df.columns= df.columns.str.replace(' ', '_')\n",
    "df.columns"
   ]
  },
  {
   "cell_type": "code",
   "execution_count": null,
   "metadata": {},
   "outputs": [],
   "source": [
    "# Access the \"reading_time\" column.\n",
    "# For each value in the column, remove the string \" min read\" from the end.\n",
    "# Ensure that the remaining value in the column is converted to the appropriate datatype, probably an integer.\n",
    "df['reading_time']= df['reading_time'].str.replace(' min read', '')\n",
    "df['reading_time']= df['reading_time'].astype(int)\n",
    "df['reading_time']\n"
   ]
  },
  {
   "cell_type": "code",
   "execution_count": null,
   "metadata": {},
   "outputs": [],
   "source": [
    "# Access the \"article_content\" column.\n",
    "# For each value in the column, replace all occurrences of the newline character (\\n) with an empty string (\"\").\n",
    "df['article_content']= df['article_content'].str.replace('\\n', '')\n",
    "df['article_content']"
   ]
  },
  {
   "cell_type": "code",
   "execution_count": null,
   "metadata": {},
   "outputs": [],
   "source": [
    "# After the transformations, ensure that each column has the correct data type (e.g., integer, string, date, etc.). You might need to use Pandas functions like astype() to enforce these data types.\n",
    "# Determine the appropriate data types for each column based on the data that it contains.\n",
    "\n",
    "#df.dtypes\n",
    "df['time_uploaded']= pd.to_datetime(df['time_uploaded'])\n",
    "df.dtypes"
   ]
  },
  {
   "cell_type": "code",
   "execution_count": 9,
   "metadata": {},
   "outputs": [],
   "source": [
    "df= df.astype({\n",
    "    'link': 'string', \n",
    "    'title' : 'string',\n",
    "    'author' : 'string',\n",
    "    'tags' : 'string',\n",
    "    'reading_time' : 'int64',\n",
    "    'article_content' : 'string',\n",
    "    'word_count' : 'int64',\n",
    "    'sentiment' : 'string',\n",
    "    'compound_score' : 'float64'\n",
    "})"
   ]
  },
  {
   "cell_type": "code",
   "execution_count": 10,
   "metadata": {},
   "outputs": [
    {
     "data": {
      "text/plain": [
       "Index(['link', 'title', 'time_uploaded', 'author', 'tags', 'reading_time',\n",
       "       'article_content', 'word_count', 'sentiment', 'compound_score'],\n",
       "      dtype='object')"
      ]
     },
     "execution_count": 10,
     "metadata": {},
     "output_type": "execute_result"
    }
   ],
   "source": [
    "df.columns"
   ]
  },
  {
   "cell_type": "code",
   "execution_count": null,
   "metadata": {},
   "outputs": [],
   "source": [
    "\n",
    "# Define your Azure PostgreSQL connection details\n",
    "USERNAME = \"testtech\"\n",
    "PASSWORD = \"Your_password\"\n",
    "HOST = \"testtech.postgres.database.azure.com\"\n",
    "PORT = \"5432\"  \n",
    "DATABASE = \"postgres\"\n",
    "\n",
    "\n",
    "DATABASE_URL = f\"postgresql://{USERNAME}:{PASSWORD}@{HOST}:{PORT}/{DATABASE}\"\n",
    "\n",
    "# Create an SQLAlchemy engine\n",
    "engine = create_engine(DATABASE_URL)\n",
    "\n",
    "\n",
    "#Push DataFrame to Azure PostgreSQL\n",
    "df.to_sql(\"ammy\", engine, if_exists=\"append\", index=False)\n",
    "\n",
    "print(\"Data pushed successfully!\")"
   ]
  },
  {
   "cell_type": "code",
   "execution_count": 21,
   "metadata": {},
   "outputs": [],
   "source": [
    "import psycopg2\n",
    "import os"
   ]
  },
  {
   "cell_type": "code",
   "execution_count": 22,
   "metadata": {},
   "outputs": [
    {
     "name": "stdout",
     "output_type": "stream",
     "text": [
      "Error: connection to server at \"testtech.postgres.database.azure.com\" (104.208.233.130), port 5432 failed: fe_sendauth: no password supplied\n",
      "\n"
     ]
    }
   ],
   "source": [
    "db_params= {\n",
    "    'dbname' : \"postgres\",\n",
    "    'user': \"testtech\",\n",
    "    'password': os.getenv('DB_PASSWORD'),\n",
    "    'host' : \"testtech.postgres.database.azure.com\",\n",
    "    'port' : \"5432\"\n",
    "}\n",
    "\n",
    "try:\n",
    "    conn = psycopg2.connect(**db_params)\n",
    "    cursor=conn.cursor()\n",
    "\n",
    "    query= \"\"\"\n",
    "    INSERT INTO ammy (link, title, time_uploaded, author, tags, reading_time, article_content, word_count, sentiment, compound_score)\n",
    "    VALUES (%s, %s,%s,%s,%s, %s, %s, %s, %s, %s)\n",
    "    ON CONFLICT (link) DO NOTHING;  --aviods duplicate primary key errors\n",
    "    \"\"\"\n",
    "\n",
    " #insert dataframe record one by one\n",
    "    for _, row in df.iterrows():\n",
    "        cursor.execute(query, (\n",
    "            row['link'], row['title'],row['time_uploaded'], row['author'], row['tags'], \n",
    "            row['reading_time'], row['article_content'], row['word_count'], row['sentiment'], row['compound_score']\n",
    "        ))\n",
    "\n",
    "    conn.commit()\n",
    "    print('data inserted successfully')\n",
    "\n",
    "except Exception as e:\n",
    "        print('Error:', e)\n",
    "\n",
    "finally:\n",
    "    if conn:\n",
    "        cursor.close()\n",
    "        conn.close()\n",
    "\n"
   ]
  },
  {
   "cell_type": "code",
   "execution_count": null,
   "metadata": {},
   "outputs": [],
   "source": [
    "# In the connected database, create a new table with your name (e.g., yourname).\n",
    "# Define the columns with appropriate data types:\n",
    "\n",
    "# The link column must be defined as the primary key.\n",
    "# Analyze the transformed data to determine the correct data type for each column.\n",
    "# Examples of datatypes are: text, integer, timestamp, date.\n",
    "\n",
    "\n",
    "# Use the psycopg2 library to connect to the PostgreSQL database from your Python environment.\n",
    "# Install psycopg2 with pip: pip install psycopg2-binary\n",
    "# Use the provided credentials to establish the connection.\n",
    "\n",
    "\n",
    "\n",
    "\n",
    "#### Iterate through the rows of your transformed Pandas DataFrame.\n",
    "# For each row, construct an INSERT INTO SQL statement.\n",
    "# Execute the SQL statement using the database connection.\n",
    "# Commit the changes to the database.\n",
    "\n"
   ]
  },
  {
   "cell_type": "markdown",
   "metadata": {},
   "source": [
    "<!-- You need to create a Python function that takes a Pandas DataFrame as input and performs the following transformations:\n",
    "\n",
    "Iterate through each column name.\n",
    "Convert the column name to lowercase.\n",
    "Replace any spaces in the column name with underscores (_).\n",
    "Example: \"Time Uploaded\" becomes \"time_uploaded\".\n",
    "\n",
    "\n",
    "\n",
    "\n",
    "Access the \"reading_time\" column.\n",
    "For each value in the column, remove the string \" min read\" from the end.\n",
    "Ensure that the remaining value in the column is converted to the appropriate datatype, probably an integer. -->"
   ]
  }
 ],
 "metadata": {
  "kernelspec": {
   "display_name": "Python 3",
   "language": "python",
   "name": "python3"
  },
  "language_info": {
   "codemirror_mode": {
    "name": "ipython",
    "version": 3
   },
   "file_extension": ".py",
   "mimetype": "text/x-python",
   "name": "python",
   "nbconvert_exporter": "python",
   "pygments_lexer": "ipython3",
   "version": "3.10.12"
  }
 },
 "nbformat": 4,
 "nbformat_minor": 2
}
